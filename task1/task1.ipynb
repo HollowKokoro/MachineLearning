{
 "cells": [
  {
   "cell_type": "code",
   "execution_count": 1,
   "metadata": {},
   "outputs": [],
   "source": [
    "import pandas as pd"
   ]
  },
  {
   "cell_type": "code",
   "execution_count": 2,
   "metadata": {},
   "outputs": [],
   "source": [
    "df = pd.read_csv('./athlete_events.csv')"
   ]
  },
  {
   "cell_type": "code",
   "execution_count": 3,
   "metadata": {},
   "outputs": [
    {
     "name": "stdout",
     "output_type": "stream",
     "text": [
      "12.0 14.0\n"
     ]
    }
   ],
   "source": [
    "#Задание 1\n",
    "femaleAge = df[(df['Sex'] == 'F') & (df['Year'] == 1996)]['Age'].min()\n",
    "maleAge = df[(df['Sex'] == 'M') & (df['Year'] == 1996)]['Age'].min()\n",
    "print(femaleAge, maleAge)"
   ]
  },
  {
   "cell_type": "code",
   "execution_count": 4,
   "metadata": {},
   "outputs": [
    {
     "name": "stdout",
     "output_type": "stream",
     "text": [
      "1.48%\n"
     ]
    }
   ],
   "source": [
    "#Задание 2\n",
    "maleGymnasts = df[(df['Sex'] == 'M') & (df['Year'] == 2000)].drop_duplicates(subset=['Name']).value_counts(subset=df['Sport'] == 'Gymnastics', normalize=True)\n",
    "print('{:.2%}'.format(maleGymnasts[True]))"
   ]
  },
  {
   "cell_type": "code",
   "execution_count": 5,
   "metadata": {},
   "outputs": [
    {
     "name": "stdout",
     "output_type": "stream",
     "text": [
      "182.38732394366198 9.139462087892174\n"
     ]
    }
   ],
   "source": [
    "#Задание 3\n",
    "femaleBasketball = df[(df['Sex'] == 'F') & (df['Sport'] == 'Basketball') & (df['Year'] == 2000)]['Height'].describe()\n",
    "print(femaleBasketball['mean'], femaleBasketball['std'])"
   ]
  },
  {
   "cell_type": "code",
   "execution_count": 6,
   "metadata": {},
   "outputs": [
    {
     "name": "stdout",
     "output_type": "stream",
     "text": [
      "Judo\n"
     ]
    }
   ],
   "source": [
    "#Задание 4\n",
    "heavyOne = df.loc[df[df['Year'] == 2000]['Weight'].max()]\n",
    "print(heavyOne['Sport'])"
   ]
  },
  {
   "cell_type": "code",
   "execution_count": 7,
   "metadata": {},
   "outputs": [
    {
     "name": "stdout",
     "output_type": "stream",
     "text": [
      "0\n",
      "6\n"
     ]
    }
   ],
   "source": [
    "#Задание 5\n",
    "personPawBratkiewicz = df[df['Name'] == 'Paw Bratkiewicz'].count()\n",
    "print(personPawBratkiewicz['ID'])\n",
    "personPaweAbratkiewicz = df[df['Name'] == 'Pawe Abratkiewicz'].count()\n",
    "print(personPaweAbratkiewicz['ID'])"
   ]
  },
  {
   "cell_type": "code",
   "execution_count": 8,
   "metadata": {},
   "outputs": [
    {
     "name": "stdout",
     "output_type": "stream",
     "text": [
      "2\n"
     ]
    }
   ],
   "source": [
    "#Задание 6\n",
    "silverMedalsAustralia = df[(df['Team'] == 'Australia') & (df['Sport'] == 'Tennis') & (df['Year'] == 2000) & (df['Medal'] == 'Silver')].count()\n",
    "print(silverMedalsAustralia['ID'])"
   ]
  },
  {
   "cell_type": "code",
   "execution_count": 9,
   "metadata": {},
   "outputs": [
    {
     "name": "stdout",
     "output_type": "stream",
     "text": [
      "False\n"
     ]
    }
   ],
   "source": [
    "#Задание 7\n",
    "medalsSwitzerland = df[(df['Team'] == 'Switzerland') & (df['Year'] == 2016) & (df['Medal'].notna())].count()\n",
    "medalsSerbia = df[(df['Team'] == 'Serbia') & (df['Year'] == 2016) & (df['Medal'].notna())].count()\n",
    "if medalsSwitzerland['Medal'] > medalsSerbia['Medal']:\n",
    "    print(True)\n",
    "else:\n",
    "    print(False)"
   ]
  },
  {
   "cell_type": "code",
   "execution_count": 10,
   "metadata": {},
   "outputs": [
    {
     "name": "stdout",
     "output_type": "stream",
     "text": [
      "Минимальное количество в возрасте от 45 до 55. Максимальное количество в возрасте от 25 до 35\n"
     ]
    }
   ],
   "source": [
    "#Задание 8\n",
    "from15to25 = df[(df.Age >= 15) & (df.Age < 25) & (df['Year'] == 2016)].drop_duplicates(subset=['Name']).count()\n",
    "from25to35 = df[(df.Age >= 25) & (df.Age < 35) & (df['Year'] == 2016)].drop_duplicates(subset=['Name']).count()\n",
    "from35to45 = df[(df.Age >= 35) & (df.Age < 45) & (df['Year'] == 2016)].drop_duplicates(subset=['Name']).count()\n",
    "from45to55 = df[(df.Age >= 45) & (df.Age < 55) & (df['Year'] == 2016)].drop_duplicates(subset=['Name']).count()\n",
    "ages = {from15to25['ID']: 'от 15 до 25', from25to35['ID']: 'от 25 до 35', from35to45['ID']: 'от 35 до 45', from45to55['ID']: 'от 45 до 55'}\n",
    "print('Минимальное количество в возрасте '+ages[min(ages)]+'. Максимальное количество в возрасте '+ages[max(ages)])"
   ]
  },
  {
   "cell_type": "code",
   "execution_count": 11,
   "metadata": {},
   "outputs": [
    {
     "name": "stdout",
     "output_type": "stream",
     "text": [
      "True\n",
      "True\n"
     ]
    }
   ],
   "source": [
    "#Задание 9\n",
    "if True in df.City.str.contains('Lake Placid').to_dict().values():\n",
    "    print(True)\n",
    "else:\n",
    "    print(False)\n",
    "\n",
    "if True in df.City.str.contains('Sankt Moritz').to_dict().values():\n",
    "    print(True)\n",
    "else:\n",
    "    print(False)"
   ]
  },
  {
   "cell_type": "code",
   "execution_count": 12,
   "metadata": {},
   "outputs": [
    {
     "name": "stdout",
     "output_type": "stream",
     "text": [
      "3\n"
     ]
    }
   ],
   "source": [
    "#Задание 10\n",
    "sport1996 = df[df['Year'] == 1996]['Sport'].drop_duplicates().count()\n",
    "sport2016 = df[df['Year'] == 2016]['Sport'].drop_duplicates().count()\n",
    "print(abs(sport1996 - sport2016))"
   ]
  }
 ],
 "metadata": {
  "kernelspec": {
   "display_name": "Python 3",
   "language": "python",
   "name": "python3"
  },
  "language_info": {
   "codemirror_mode": {
    "name": "ipython",
    "version": 3
   },
   "file_extension": ".py",
   "mimetype": "text/x-python",
   "name": "python",
   "nbconvert_exporter": "python",
   "pygments_lexer": "ipython3",
   "version": "3.8.2"
  }
 },
 "nbformat": 4,
 "nbformat_minor": 4
}
