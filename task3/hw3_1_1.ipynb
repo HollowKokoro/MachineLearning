{
 "cells": [
  {
   "cell_type": "code",
   "execution_count": 2,
   "metadata": {},
   "outputs": [],
   "source": [
    "import pandas as pd\n",
    "import matplotlib.pyplot as plt\n",
    "import numpy as np\n",
    "import math\n",
    "from sklearn.tree import DecisionTreeClassifier"
   ]
  },
  {
   "cell_type": "code",
   "execution_count": 3,
   "metadata": {},
   "outputs": [],
   "source": [
    "df=pd.read_csv('./data.csv')"
   ]
  },
  {
   "cell_type": "code",
   "execution_count": 4,
   "metadata": {},
   "outputs": [],
   "source": [
    "pl=pd.read_csv('./players.csv')"
   ]
  },
  {
   "cell_type": "code",
   "execution_count": 12,
   "metadata": {},
   "outputs": [
    {
     "name": "stdout",
     "output_type": "stream",
     "text": [
      "      B365H  B365D  B365A   BWH   BWD    BWA   IWH  IWD   IWA   LBH  ...  \\\n",
      "7      1.95   3.50   3.75  1.95  3.60   3.60  2.00  3.3   3.3  2.00  ...   \n",
      "24     2.00   3.50   3.60  2.00  3.50   3.60  2.00  3.5   3.4  2.15  ...   \n",
      "61     1.29   5.50  10.00  1.25  5.75  10.50  1.30  5.0   9.0  1.30  ...   \n",
      "70     2.30   3.20   3.10  2.35  3.25   3.00  2.10  3.3   3.3  2.25  ...   \n",
      "91     1.67   3.75   5.00  1.62  3.75   4.60  1.60  3.6   4.8  1.62  ...   \n",
      "...     ...    ...    ...   ...   ...    ...   ...  ...   ...   ...  ...   \n",
      "8717   1.18   7.00  13.00  1.19  6.75  13.00  1.22  6.0  10.5  1.22  ...   \n",
      "8742   1.67   3.75   5.00  1.75  3.90   4.75  1.60  3.6   4.8  1.62  ...   \n",
      "8746   1.20   6.50  13.00  1.18  6.00  15.00  1.17  5.4  13.0  1.20  ...   \n",
      "8752   1.70   3.75   4.75  1.70  3.50   4.40  1.65  3.5   4.5  1.61  ...   \n",
      "8772   2.60   3.30   2.63  2.55  3.20   2.55  2.50  3.1   2.6  2.37  ...   \n",
      "\n",
      "       VCH   VCD    VCA   GBH   GBD    GBA   BSH   BSD    BSA  win_team  \n",
      "7     1.95  3.70   3.90  1.95  3.60   3.60  2.00  3.40   3.60       1.0  \n",
      "24    2.10  3.50   3.60  2.00  3.50   3.60  2.05  3.30   3.40       1.0  \n",
      "61    1.29  5.75  13.00  1.25  5.75  10.50  1.30  5.25   9.00       1.0  \n",
      "70    2.45  3.40   3.12  2.35  3.25   3.00  2.40  3.30   2.90       1.0  \n",
      "91    1.70  4.00   5.00  1.62  3.75   4.60  1.67  3.75   4.75       1.0  \n",
      "...    ...   ...    ...   ...   ...    ...   ...   ...    ...       ...  \n",
      "8717  1.20  8.00  15.00  1.19  6.75  13.00  1.18  6.50  15.00       1.0  \n",
      "8742  1.70  4.00   5.00  1.75  3.90   4.75  1.67  3.75   4.50       1.0  \n",
      "8746  1.20  7.00  17.00  1.18  6.00  15.00  1.20  6.00  12.00       1.0  \n",
      "8752  1.65  3.90   5.25  1.70  3.50   4.40  1.70  3.60   4.33       1.0  \n",
      "8772  2.62  3.30   2.70  2.55  3.20   2.55  2.50  3.25   2.60       1.0  \n",
      "\n",
      "[640 rows x 31 columns]\n"
     ]
    }
   ],
   "source": [
    "data=df[['B365H', 'B365D', 'B365A', 'BWH', 'BWD', 'BWA', 'IWH', 'IWD', 'IWA', 'LBH', 'LBD', 'LBA', 'PSH', 'PSD', 'PSA', 'WHH', 'WHD', 'WHA', 'SJH', 'SJD', 'SJA', 'VCH', 'VCD', 'VCA', 'GBH', 'GBD', 'GBA', 'BSH', 'BSD', 'BSA', 'win_team']]\n",
    "data = data.replace(0, np.nan)\n",
    "data = data.dropna()\n",
    "print(data)"
   ]
  },
  {
   "cell_type": "code",
   "execution_count": 16,
   "metadata": {},
   "outputs": [],
   "source": [
    "y= data['win_team'].astype(int)"
   ]
  },
  {
   "cell_type": "code",
   "execution_count": 17,
   "metadata": {},
   "outputs": [],
   "source": [
    "X= data.drop('win_team',axis=1)"
   ]
  },
  {
   "cell_type": "code",
   "execution_count": 18,
   "metadata": {},
   "outputs": [
    {
     "data": {
      "text/plain": [
       "((640, 30), (640,))"
      ]
     },
     "execution_count": 18,
     "metadata": {},
     "output_type": "execute_result"
    }
   ],
   "source": [
    "X.shape,y.shape"
   ]
  },
  {
   "cell_type": "markdown",
   "metadata": {},
   "source": [
    "Настроим параметры кросс-валидации К=5"
   ]
  },
  {
   "cell_type": "code",
   "execution_count": 20,
   "metadata": {},
   "outputs": [],
   "source": [
    "from sklearn.model_selection import train_test_split, cross_val_score"
   ]
  },
  {
   "cell_type": "code",
   "execution_count": 28,
   "metadata": {},
   "outputs": [],
   "source": [
    "X_train, X_test, y_train, y_test = train_test_split(X, y, test_size=0.2, train_size=0.8,random_state=17)"
   ]
  },
  {
   "cell_type": "code",
   "execution_count": 29,
   "metadata": {},
   "outputs": [
    {
     "data": {
      "text/plain": [
       "(512, 30)"
      ]
     },
     "execution_count": 29,
     "metadata": {},
     "output_type": "execute_result"
    }
   ],
   "source": [
    "X_train.shape # 8786*4/5 "
   ]
  },
  {
   "cell_type": "code",
   "execution_count": 30,
   "metadata": {},
   "outputs": [],
   "source": [
    "first_tree = DecisionTreeClassifier(criterion = 'entropy',random_state=17) # создадим первое дерево (и наверное единственное) entropy"
   ]
  },
  {
   "cell_type": "code",
   "execution_count": null,
   "metadata": {},
   "outputs": [],
   "source": []
  },
  {
   "cell_type": "code",
   "execution_count": 31,
   "metadata": {},
   "outputs": [
    {
     "data": {
      "text/plain": [
       "1.0"
      ]
     },
     "execution_count": 31,
     "metadata": {},
     "output_type": "execute_result"
    }
   ],
   "source": [
    "np.mean(cross_val_score (first_tree, X_train, y_train, cv=5)) # средний результат работы дерева на кросс-валидации"
   ]
  },
  {
   "cell_type": "markdown",
   "metadata": {},
   "source": [
    "Подберем  оптимальные гиперпараметры дерева решений"
   ]
  },
  {
   "cell_type": "code",
   "execution_count": 32,
   "metadata": {},
   "outputs": [],
   "source": [
    "from sklearn.model_selection import GridSearchCV\n"
   ]
  },
  {
   "cell_type": "code",
   "execution_count": 33,
   "metadata": {},
   "outputs": [],
   "source": [
    "tree_params = {'max_depth':np.arange(1,11), 'max_features':np.arange(0.5,1,0.1)}"
   ]
  },
  {
   "cell_type": "code",
   "execution_count": 34,
   "metadata": {},
   "outputs": [],
   "source": [
    "tree_grid = GridSearchCV(first_tree, tree_params, cv=5)\n"
   ]
  },
  {
   "cell_type": "code",
   "execution_count": 35,
   "metadata": {
    "scrolled": true
   },
   "outputs": [
    {
     "name": "stdout",
     "output_type": "stream",
     "text": [
      "CPU times: user 3 µs, sys: 1e+03 ns, total: 4 µs\n",
      "Wall time: 6.2 µs\n"
     ]
    },
    {
     "data": {
      "text/plain": [
       "GridSearchCV(cv=5,\n",
       "             estimator=DecisionTreeClassifier(criterion='entropy',\n",
       "                                              random_state=17),\n",
       "             param_grid={'max_depth': array([ 1,  2,  3,  4,  5,  6,  7,  8,  9, 10]),\n",
       "                         'max_features': array([0.5, 0.6, 0.7, 0.8, 0.9])})"
      ]
     },
     "execution_count": 35,
     "metadata": {},
     "output_type": "execute_result"
    }
   ],
   "source": [
    "%time\n",
    "tree_grid.fit(X_train,y_train)"
   ]
  },
  {
   "cell_type": "markdown",
   "metadata": {},
   "source": [
    "Лучший результат дерева на кросс валидации"
   ]
  },
  {
   "cell_type": "code",
   "execution_count": 36,
   "metadata": {},
   "outputs": [
    {
     "data": {
      "text/plain": [
       "(1.0, {'max_depth': 1, 'max_features': 0.5})"
      ]
     },
     "execution_count": 36,
     "metadata": {},
     "output_type": "execute_result"
    }
   ],
   "source": [
    "tree_grid.best_score_ , tree_grid.best_params_ # tree_grid.best_estimator_"
   ]
  },
  {
   "cell_type": "markdown",
   "metadata": {},
   "source": [
    "Узнаем результаты на отложенной выборке"
   ]
  },
  {
   "cell_type": "code",
   "execution_count": 38,
   "metadata": {},
   "outputs": [
    {
     "data": {
      "text/plain": [
       "1.0"
      ]
     },
     "execution_count": 38,
     "metadata": {},
     "output_type": "execute_result"
    }
   ],
   "source": [
    "tree_grid.score(X_test, y_test)"
   ]
  },
  {
   "cell_type": "markdown",
   "metadata": {},
   "source": [
    "Выбранная метрика - доля верных прогнозов для данной модели составляет 71%"
   ]
  },
  {
   "cell_type": "markdown",
   "metadata": {},
   "source": [
    "ВИЗУАЛИЗИРУЕМ ДЕРЕВО"
   ]
  },
  {
   "cell_type": "code",
   "execution_count": 40,
   "metadata": {
    "scrolled": false
   },
   "outputs": [
    {
     "data": {
      "image/png": "[encoded data removed]",
      "text/plain": [
       "<Figure size 432x288 with 1 Axes>"
      ]
     },
     "metadata": {
      "needs_background": "light"
     },
     "output_type": "display_data"
    }
   ],
   "source": [
    "from graphviz import Source\n",
    "from sklearn import tree\n",
    "tree.plot_tree(tree_grid.best_estimator_);"
   ]
  },
  {
   "cell_type": "code",
   "execution_count": null,
   "metadata": {},
   "outputs": [],
   "source": []
  }
 ],
 "metadata": {
  "kernelspec": {
   "display_name": "Python 3",
   "language": "python",
   "name": "python3"
  },
  "language_info": {
   "codemirror_mode": {
    "name": "ipython",
    "version": 3
   },
   "file_extension": ".py",
   "mimetype": "text/x-python",
   "name": "python",
   "nbconvert_exporter": "python",
   "pygments_lexer": "ipython3",
   "version": "3.8.5"
  }
 },
 "nbformat": 4,
 "nbformat_minor": 4
}
